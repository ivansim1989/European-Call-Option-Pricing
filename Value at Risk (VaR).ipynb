{
 "cells": [
  {
   "cell_type": "markdown",
   "metadata": {},
   "source": [
    "# Value at Risk (VaR)"
   ]
  },
  {
   "cell_type": "markdown",
   "metadata": {},
   "source": [
    "## Definition"
   ]
  },
  {
   "cell_type": "markdown",
   "metadata": {},
   "source": [
    "Value at Risk (VaR) provides an estimate of a loss from a portfolio that would lead to a minimal market impact if a portfolio were to be liquidated under a given degree of confidenc over a given time period."
   ]
  },
  {
   "cell_type": "markdown",
   "metadata": {},
   "source": [
    "## Import Libraries"
   ]
  },
  {
   "cell_type": "code",
   "execution_count": 55,
   "metadata": {},
   "outputs": [],
   "source": [
    "import numpy as np\n",
    "from scipy.stats import norm\n",
    "import seaborn as sns \n",
    "import pandas as pd\n",
    "from pandas_datareader import data as web\n",
    "import matplotlib as mpl\n",
    "import matplotlib.pyplot as plt\n",
    "from tabulate import tabulate\n",
    "mpl.rcParams['font.family'] = 'serif'\n",
    "sys.path.append('05_com')"
   ]
  },
  {
   "cell_type": "markdown",
   "metadata": {},
   "source": [
    "## Variance-Covariance approach"
   ]
  },
  {
   "cell_type": "markdown",
   "metadata": {},
   "source": [
    "Variance-Covariance calculation of daily Value-at-Risk using confidence level, with mean of returns and standard deviation of returns, on a portfolio of value."
   ]
  },
  {
   "cell_type": "code",
   "execution_count": 94,
   "metadata": {},
   "outputs": [],
   "source": [
    "def read_data(data, source, start, end):\n",
    "    # Imports data from online sources.\n",
    "    df = web.DataReader(name=data, data_source=source, start=start, end=end)\n",
    "    # Calculate the daily returns\n",
    "    df['returns']= df.Close.pct_change()\n",
    "    \n",
    "    # Determine the mean and standard deviation of the daily returns.\n",
    "    mean = np.mean(df['returns'])\n",
    "    sigma = np.std(df['returns'])\n",
    "\n",
    "    # Plot the normal curve against the daily returns\n",
    "    df['returns'].hist(bins=40, normed=True, alpha=0.5)\n",
    "    x = np.linspace(mean - 3*sigma, mean + 3*sigma, 100)\n",
    "    plt.plot(x, mlab.normpdf(x, mean, sigma), \"r\")\n",
    "    return plt.show()"
   ]
  },
  {
   "cell_type": "code",
   "execution_count": 81,
   "metadata": {},
   "outputs": [
    {
     "name": "stdout",
     "output_type": "stream",
     "text": [
      "data: ^GDAXI\n",
      "source: yahoo\n",
      "start: 01-01-2008\n",
      "end: 31-12-2017\n"
     ]
    },
    {
     "name": "stderr",
     "output_type": "stream",
     "text": [
      "D:\\Users\\ivans\\Anaconda2\\lib\\site-packages\\ipykernel_launcher.py:9: MatplotlibDeprecationWarning: scipy.stats.norm.pdf\n",
      "  if __name__ == '__main__':\n"
     ]
    },
    {
     "data": {
      "image/png": "[encoded data removed]",
      "text/plain": [
       "<Figure size 432x288 with 1 Axes>"
      ]
     },
     "metadata": {},
     "output_type": "display_data"
    }
   ],
   "source": [
    "# input the details of online source:\n",
    "data = (raw_input(\"data: \")) \n",
    "source = (raw_input(\"source: \")) \n",
    "start = (raw_input(\"start: \")) \n",
    "end = (raw_input(\"end: \")) \n",
    "\n",
    "read_data(data, source, start, end)"
   ]
  },
  {
   "cell_type": "code",
   "execution_count": 92,
   "metadata": {},
   "outputs": [],
   "source": [
    "def var_cov_var(P, c1=0.90, c2=0.95, c3=0.99):\n",
    "    # Calculate the VaR using point percentile function\n",
    "    VaR_90 = norm.ppf(1-c1 ,mean, sigma)\n",
    "    VaR_95 = norm.ppf(1-c2, mean, sigma)\n",
    "    VaR_99 = norm.ppf(1-c3, mean, sigma)\n",
    "    \n",
    "    # Calculate the Value at Risk based on portfolio value (P)\n",
    "    VaR_90P = P-P*(VaR_90 + 1)\n",
    "    VaR_95P = P-P*(VaR_95 + 1)\n",
    "    VaR_99P = P-P*(VaR_99 + 1)\n",
    "    \n",
    "    # print table\n",
    "    print \"------------\\n\"\n",
    "    print\n",
    "    print tabulate([['90%', VaR_90, VaR_90P], ['95%', VaR_95, VaR_95P], ['99%', VaR_99, VaR_99P]], headers=['Confidence Level', ' VaR (percentile)', ' Value at Risk'])"
   ]
  },
  {
   "cell_type": "code",
   "execution_count": 93,
   "metadata": {},
   "outputs": [
    {
     "name": "stdout",
     "output_type": "stream",
     "text": [
      "P: 1000000\n",
      "------------\n",
      "\n",
      "Confidence Level       VaR (percentile)     Value at Risk\n",
      "------------------  -------------------  ----------------\n",
      "90%                          -0.0184078           18407.8\n",
      "95%                          -0.0237106           23710.6\n",
      "99%                          -0.0336577           33657.7\n"
     ]
    }
   ],
   "source": [
    "# call the function:\n",
    "P = (input(\"P: \")) \n",
    "var_cov_var(P)"
   ]
  },
  {
   "cell_type": "markdown",
   "metadata": {},
   "source": [
    "## Historical Simulation approach"
   ]
  },
  {
   "cell_type": "markdown",
   "metadata": {},
   "source": [
    "Historic simulation method takes previously observed events and builds them into a model that predicts the maximum likely loss over the next time period."
   ]
  },
  {
   "cell_type": "code",
   "execution_count": 97,
   "metadata": {},
   "outputs": [],
   "source": [
    "def read_data(data, source, start, end):\n",
    "    # Imports data from online sources.\n",
    "    df = web.DataReader(name=data, data_source=source, start=start, end=end)\n",
    "    \n",
    "    # Calculate the daily returns\n",
    "    df['returns']= df.Close.pct_change()\n",
    "    df = df.dropna()\n",
    "    \n",
    "    # Plot the normal curve against the daily returns\n",
    "    ax = sns.distplot(df['returns'], kde=True, color='blue', bins=40)\n",
    "    ax.set(xlabel='Returns', ylabel='Fequency')\n",
    "    return ax"
   ]
  },
  {
   "cell_type": "code",
   "execution_count": 98,
   "metadata": {},
   "outputs": [
    {
     "name": "stdout",
     "output_type": "stream",
     "text": [
      "data: ^GDAXI\n",
      "source: yahoo\n",
      "start: 01-01-2008\n",
      "end: 31-12-2017\n"
     ]
    },
    {
     "data": {
      "text/plain": [
       "<matplotlib.axes._subplots.AxesSubplot at 0xdeca128>"
      ]
     },
     "execution_count": 98,
     "metadata": {},
     "output_type": "execute_result"
    },
    {
     "data": {
      "image/png": "[encoded data removed]",
      "text/plain": [
       "<Figure size 432x288 with 1 Axes>"
      ]
     },
     "metadata": {},
     "output_type": "display_data"
    }
   ],
   "source": [
    "# input the details of online source\n",
    "data = (raw_input(\"data: \")) \n",
    "source = (raw_input(\"source: \")) \n",
    "start = (raw_input(\"start: \")) \n",
    "end = (raw_input(\"end: \")) \n",
    "\n",
    "read_data(data, source, start, end)"
   ]
  },
  {
   "cell_type": "code",
   "execution_count": 100,
   "metadata": {},
   "outputs": [],
   "source": [
    "def hist_var(P ,c1=0.10, c2=0.05, c3=0.01):\n",
    "    # Sort the returns\n",
    "    df.sort_values('returns', inplace=True, ascending=True)\n",
    "    # Calculate the VaR using point percentile function\n",
    "    VaR_90 = df['returns'].quantile(c1)\n",
    "    VaR_95 = df['returns'].quantile(c2)\n",
    "    VaR_99 = df['returns'].quantile(c3)\n",
    "    \n",
    "    # Calculate the Value at Risk based on portfolio value (P)\n",
    "    VaR_90P = P-P*(VaR_90 + 1)\n",
    "    VaR_95P = P-P*(VaR_95 + 1) \n",
    "    VaR_99P = P-P*(VaR_99 + 1)\n",
    "    \n",
    "    #print table\n",
    "    print \"------------\\n\"\n",
    "    print tabulate([['90%', VaR_90, VaR_90P], ['95%', VaR_95, VaR_95P], ['99%', VaR_99, VaR_99P]], headers=['Confidence Level', ' VaR (percentile)', ' Value at Risk'])"
   ]
  },
  {
   "cell_type": "code",
   "execution_count": 101,
   "metadata": {},
   "outputs": [
    {
     "name": "stdout",
     "output_type": "stream",
     "text": [
      "P: 1000000\n",
      "------------\n",
      "\n",
      "Confidence Level       VaR (percentile)     Value at Risk\n",
      "------------------  -------------------  ----------------\n",
      "90%                          -0.0161286           16128.6\n",
      "95%                          -0.0230154           23015.4\n",
      "99%                          -0.0439564           43956.4\n"
     ]
    }
   ],
   "source": [
    "# call the function:\n",
    "P = (input(\"P: \")) \n",
    "hist_var(P)"
   ]
  },
  {
   "cell_type": "markdown",
   "metadata": {},
   "source": [
    "## Disadvantages"
   ]
  },
  {
   "cell_type": "markdown",
   "metadata": {},
   "source": [
    "However, VaR is not without its disadvantages:\n",
    "\n",
    "- VaR does not discuss the magnitude of the expected loss beyond the value of VaR, i.e. it will tell us that we are likely to see a loss exceeding a value, but not how much it exceeds it.\n",
    "\n",
    "\n",
    "- It does not take into account extreme events, but only typical market conditions.\n",
    "\n",
    "\n",
    "- Since it uses historical data (it is rearward-looking) it will not take into account future market regime shifts that can change volatilities and correlations of assets.\n",
    "\n",
    "VaR should not be used in isolation. It should always be used with a suite of risk management techniques, such as diversification, optimal portfolio allocation and prudent use of leverage."
   ]
  }
 ],
 "metadata": {
  "kernelspec": {
   "display_name": "Python 2",
   "language": "python",
   "name": "python2"
  },
  "language_info": {
   "codemirror_mode": {
    "name": "ipython",
    "version": 2
   },
   "file_extension": ".py",
   "mimetype": "text/x-python",
   "name": "python",
   "nbconvert_exporter": "python",
   "pygments_lexer": "ipython2",
   "version": "2.7.14"
  }
 },
 "nbformat": 4,
 "nbformat_minor": 2
}
