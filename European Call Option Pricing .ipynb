{
 "cells": [
  {
   "cell_type": "markdown",
   "metadata": {},
   "source": [
    "# European Call Option Pricing"
   ]
  },
  {
   "cell_type": "markdown",
   "metadata": {},
   "source": [
    "## Import Libraries"
   ]
  },
  {
   "cell_type": "code",
   "execution_count": 1,
   "metadata": {},
   "outputs": [],
   "source": [
    "import numpy as np\n",
    "from scipy.stats import norm\n",
    "import matplotlib.pyplot as plt"
   ]
  },
  {
   "cell_type": "markdown",
   "metadata": {},
   "source": [
    "## Black-Scholes-Merton (BSM) Model"
   ]
  },
  {
   "cell_type": "markdown",
   "metadata": {},
   "source": [
    "The Black-Scholes-Merton model is a model of price variation over time of financial instruments and often be used to determine the price of a European call option."
   ]
  },
  {
   "cell_type": "code",
   "execution_count": 2,
   "metadata": {},
   "outputs": [],
   "source": [
    "def bsprice(rf, sigma, K, S0, T):\n",
    "    disc = np.exp(-rf*T)  #discounting\n",
    "    vol = sigma*np.sqrt(T) #time-scaled volatility\n",
    "\n",
    "    # calculate price analytically using Black-Scholes\n",
    "    d1 = ((np.log(S0/K)+(rf+0.5*sigma*sigma)*T))/vol\n",
    "    d2 = d1-vol\n",
    "    BSprice = S0*norm.cdf(d1)-disc*K*norm.cdf(d2)\n",
    "    print \"Option price with BS is:\", BSprice"
   ]
  },
  {
   "cell_type": "code",
   "execution_count": 8,
   "metadata": {},
   "outputs": [
    {
     "name": "stdout",
     "output_type": "stream",
     "text": [
      "risk-free rate: 0.01\n",
      "Sigma: 0.05\n",
      "Strike price: 15\n",
      "Spot price: 18\n",
      "Maturity: 10\n",
      "Option price with BS is: 4.072516538424944\n"
     ]
    }
   ],
   "source": [
    "# input call option parameters:\n",
    "rf = (input(\"risk-free rate: \"))              # risk-free rate\n",
    "sigma = (input(\"Sigma: \"))                    # constant volatility\n",
    "K = (input(\"Strike price: \"))                 # strike\n",
    "S0 = (input(\"Spot price: \"))                  # spot at time 0\n",
    "T= (input(\"Maturity: \"))                      # number of descrete time steps till maturity\n",
    "\n",
    "\n",
    "bsprice(rf, sigma, K, S0, T)"
   ]
  },
  {
   "cell_type": "markdown",
   "metadata": {},
   "source": [
    "## Monte Carlo Simulation"
   ]
  },
  {
   "cell_type": "markdown",
   "metadata": {},
   "source": [
    "The Monte Carlo Simulation is a probability distribution technique used to understand the impact of risk and uncertainty in financial, project management, cost, and other forecasting models. It calculates results over and over, each time using a different set of random values from the probability functions. Pricing the financial dervative such as European Call Option can be broadly split into finding expectations analytically or via a simulation."
   ]
  },
  {
   "cell_type": "code",
   "execution_count": 4,
   "metadata": {},
   "outputs": [],
   "source": [
    "def mcprice(n, rf, sigma, K, S0, T):\n",
    "\n",
    "    disc = np.exp(-rf*T)  \n",
    "    vol = sigma*np.sqrt(T)\n",
    "    \n",
    "    # simulate N terminal prices by using normal distribution\n",
    "    rands=np.random.normal(size=n)\n",
    "    \n",
    "    # calculate price analytically using Monte Carlo Simulation\n",
    "    ST=S0*np.exp((rf-0.5*sigma*sigma)*T + vol*rands)\n",
    "    payoff = np.multiply([p if p > 0 else 0 for p in ST-K], disc)\n",
    "    MCprice = np.mean(payoff,axis=0)\n",
    "    print \"Option price with MC is:\", MCprice\n",
    "    \n",
    "    #Plot the Histogram of terminate price using Monte Carlo Probabilistic Simulation\n",
    "    fig, axes = plt.subplots(1, 1, figsize=(6, 5))\n",
    "    ax = plt.hist(payoff, bins=100, color='red', alpha=0.7)\n",
    "    ax = fig.gca()\n",
    "    ax.set_title(\"Histogram of terminate price using Monte Carlo Probabilistic Simulation\")\n",
    "    return ax"
   ]
  },
  {
   "cell_type": "code",
   "execution_count": 5,
   "metadata": {},
   "outputs": [
    {
     "name": "stdout",
     "output_type": "stream",
     "text": [
      "Number of seed: 100000\n",
      "Risk-free rate: 0.01\n",
      "Sigma: 0.05\n",
      "Strike price: 15\n",
      "Spot price: 18\n",
      "Maturity: 10\n",
      "Option price with MC is: 4.458099176055742\n"
     ]
    },
    {
     "data": {
      "text/plain": [
       "<matplotlib.axes._subplots.AxesSubplot at 0x9df0d30>"
      ]
     },
     "execution_count": 5,
     "metadata": {},
     "output_type": "execute_result"
    },
    {
     "data": {
      "image/png": "[encoded data removed]",
      "text/plain": [
       "<Figure size 432x360 with 1 Axes>"
      ]
     },
     "metadata": {},
     "output_type": "display_data"
    }
   ],
   "source": [
    "# input call option parameters:\n",
    "n = (input(\"Number of seed: \"))               # number of seed\n",
    "rf = (input(\"Risk-free rate: \"))              # risk-free rate\n",
    "sigma = (input(\"Sigma: \"))                    # constant volatility\n",
    "K = (input(\"Strike price: \"))                 # strike\n",
    "S0 = (input(\"Spot price: \"))                  # spot at time 0\n",
    "T= (input(\"Maturity: \"))                      # number of descrete time steps till maturity\n",
    "\n",
    "\n",
    "mcprice(n, rf, sigma, K, S0, T)"
   ]
  }
 ],
 "metadata": {
  "kernelspec": {
   "display_name": "Python 2",
   "language": "python",
   "name": "python2"
  },
  "language_info": {
   "codemirror_mode": {
    "name": "ipython",
    "version": 2
   },
   "file_extension": ".py",
   "mimetype": "text/x-python",
   "name": "python",
   "nbconvert_exporter": "python",
   "pygments_lexer": "ipython2",
   "version": "2.7.14"
  }
 },
 "nbformat": 4,
 "nbformat_minor": 2
}
